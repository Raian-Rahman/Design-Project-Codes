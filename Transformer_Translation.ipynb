{
  "nbformat": 4,
  "nbformat_minor": 0,
  "metadata": {
    "colab": {
      "name": "Transformer Translation.ipynb",
      "provenance": [],
      "authorship_tag": "ABX9TyOaw/+5E45PNPBvZqAR+OCA",
      "include_colab_link": true
    },
    "kernelspec": {
      "name": "python3",
      "display_name": "Python 3"
    },
    "language_info": {
      "name": "python"
    },
    "accelerator": "GPU"
  },
  "cells": [
    {
      "cell_type": "markdown",
      "metadata": {
        "id": "view-in-github",
        "colab_type": "text"
      },
      "source": [
        "<a href=\"https://colab.research.google.com/github/Raian-Rahman/Design-Project-Codes/blob/main/Transformer_Translation.ipynb\" target=\"_parent\"><img src=\"https://colab.research.google.com/assets/colab-badge.svg\" alt=\"Open In Colab\"/></a>"
      ]
    },
    {
      "cell_type": "code",
      "metadata": {
        "colab": {
          "base_uri": "https://localhost:8080/"
        },
        "id": "DRhAbN2I-CGE",
        "outputId": "c0cd67fd-a95f-420b-a7be-8cd0017e80e5"
      },
      "source": [
        "!pip install -U torchtext==0.8.0"
      ],
      "execution_count": 1,
      "outputs": [
        {
          "output_type": "stream",
          "text": [
            "Requirement already up-to-date: torchtext==0.8.0 in /usr/local/lib/python3.7/dist-packages (0.8.0)\n",
            "Requirement already satisfied, skipping upgrade: tqdm in /usr/local/lib/python3.7/dist-packages (from torchtext==0.8.0) (4.41.1)\n",
            "Requirement already satisfied, skipping upgrade: torch in /usr/local/lib/python3.7/dist-packages (from torchtext==0.8.0) (1.8.1+cu101)\n",
            "Requirement already satisfied, skipping upgrade: requests in /usr/local/lib/python3.7/dist-packages (from torchtext==0.8.0) (2.23.0)\n",
            "Requirement already satisfied, skipping upgrade: numpy in /usr/local/lib/python3.7/dist-packages (from torchtext==0.8.0) (1.19.5)\n",
            "Requirement already satisfied, skipping upgrade: typing-extensions in /usr/local/lib/python3.7/dist-packages (from torch->torchtext==0.8.0) (3.7.4.3)\n",
            "Requirement already satisfied, skipping upgrade: idna<3,>=2.5 in /usr/local/lib/python3.7/dist-packages (from requests->torchtext==0.8.0) (2.10)\n",
            "Requirement already satisfied, skipping upgrade: urllib3!=1.25.0,!=1.25.1,<1.26,>=1.21.1 in /usr/local/lib/python3.7/dist-packages (from requests->torchtext==0.8.0) (1.24.3)\n",
            "Requirement already satisfied, skipping upgrade: certifi>=2017.4.17 in /usr/local/lib/python3.7/dist-packages (from requests->torchtext==0.8.0) (2020.12.5)\n",
            "Requirement already satisfied, skipping upgrade: chardet<4,>=3.0.2 in /usr/local/lib/python3.7/dist-packages (from requests->torchtext==0.8.0) (3.0.4)\n"
          ],
          "name": "stdout"
        }
      ]
    },
    {
      "cell_type": "code",
      "metadata": {
        "colab": {
          "base_uri": "https://localhost:8080/"
        },
        "id": "3fJZm8O98yFJ",
        "outputId": "ad2151a2-e616-4f69-d245-84968875a0aa"
      },
      "source": [
        "%cd /content/\n",
        "\n",
        "import torch\n",
        "import torch.nn as nn\n",
        "import torch.optim as optim  \n",
        "import spacy\n",
        "from torch.utils.tensorboard import SummaryWriter\n",
        "from torchtext.datasets import Multi30k\n",
        "from torchtext.data import Field, BucketIterator"
      ],
      "execution_count": 3,
      "outputs": [
        {
          "output_type": "stream",
          "text": [
            "/content\n"
          ],
          "name": "stdout"
        }
      ]
    },
    {
      "cell_type": "code",
      "metadata": {
        "id": "J6OQ3gGJjSIT"
      },
      "source": [
        "import torch\n",
        "import spacy\n",
        "from torchtext.data.metrics import bleu_score\n",
        "import sys\n",
        "\n",
        "def translate_sentence(model, sentence, german, english, device, max_length=50):\n",
        "    # Load german tokenizer\n",
        "    spacy_ger = spacy.load(\"de\")\n",
        "\n",
        "    # Create tokens using spacy and everything in lower case (which is what our vocab is)\n",
        "    if type(sentence) == str:\n",
        "        tokens = [token.text.lower() for token in spacy_ger(sentence)]\n",
        "    else:\n",
        "        tokens = [token.lower() for token in sentence]\n",
        "\n",
        "    # Add <SOS> and <EOS> in beginning and end respectively\n",
        "    tokens.insert(0, german.init_token)\n",
        "    tokens.append(german.eos_token)\n",
        "\n",
        "    # Go through each german token and convert to an index\n",
        "    text_to_indices = [german.vocab.stoi[token] for token in tokens]\n",
        "\n",
        "    # Convert to Tensor\n",
        "    sentence_tensor = torch.LongTensor(text_to_indices).unsqueeze(1).to(device)\n",
        "\n",
        "    outputs = [english.vocab.stoi[\"<sos>\"]]\n",
        "    for i in range(max_length):\n",
        "        trg_tensor = torch.LongTensor(outputs).unsqueeze(1).to(device)\n",
        "\n",
        "        with torch.no_grad():\n",
        "            output = model(sentence_tensor, trg_tensor)\n",
        "\n",
        "        best_guess = output.argmax(2)[-1, :].item()\n",
        "        outputs.append(best_guess)\n",
        "\n",
        "        if best_guess == english.vocab.stoi[\"<eos>\"]:\n",
        "            break\n",
        "\n",
        "    translated_sentence = [english.vocab.itos[idx] for idx in outputs]\n",
        "    # remove start token\n",
        "    return translated_sentence[1:]\n",
        "\n",
        "\n",
        "def bleu(data, model, german, english, device):\n",
        "    targets = []\n",
        "    outputs = []\n",
        "\n",
        "    for example in data:\n",
        "        src = vars(example)[\"src\"]\n",
        "        trg = vars(example)[\"trg\"]\n",
        "\n",
        "        prediction = translate_sentence(model, src, german, english, device)\n",
        "        prediction = prediction[:-1]  # remove <eos> token\n",
        "\n",
        "        targets.append([trg])\n",
        "        outputs.append(prediction)\n",
        "\n",
        "    return bleu_score(outputs, targets)\n",
        "\n",
        "\n",
        "def save_checkpoint(state, filename=\"my_checkpoint.pth.tar\"):\n",
        "    print(\"=> Saving checkpoint\")\n",
        "    torch.save(state, filename)\n",
        "\n",
        "\n",
        "def load_checkpoint(checkpoint, model, optimizer):\n",
        "    print(\"=> Loading checkpoint\")\n",
        "    model.load_state_dict(checkpoint[\"state_dict\"])\n",
        "    optimizer.load_state_dict(checkpoint[\"optimizer\"])"
      ],
      "execution_count": 4,
      "outputs": []
    },
    {
      "cell_type": "markdown",
      "metadata": {
        "id": "7GS78UXI-MZQ"
      },
      "source": [
        "### Data Preprocessing"
      ]
    },
    {
      "cell_type": "code",
      "metadata": {
        "id": "6NfE2PY4-U34",
        "colab": {
          "base_uri": "https://localhost:8080/"
        },
        "outputId": "7e75bb10-a335-48c9-9e56-818904fb3728"
      },
      "source": [
        "!python -m spacy download en\n",
        "!python -m spacy download de"
      ],
      "execution_count": null,
      "outputs": [
        {
          "output_type": "stream",
          "text": [
            "Requirement already satisfied: en_core_web_sm==2.2.5 from https://github.com/explosion/spacy-models/releases/download/en_core_web_sm-2.2.5/en_core_web_sm-2.2.5.tar.gz#egg=en_core_web_sm==2.2.5 in /usr/local/lib/python3.7/dist-packages (2.2.5)\n",
            "Requirement already satisfied: spacy>=2.2.2 in /usr/local/lib/python3.7/dist-packages (from en_core_web_sm==2.2.5) (2.2.4)\n",
            "Requirement already satisfied: murmurhash<1.1.0,>=0.28.0 in /usr/local/lib/python3.7/dist-packages (from spacy>=2.2.2->en_core_web_sm==2.2.5) (1.0.5)\n",
            "Requirement already satisfied: setuptools in /usr/local/lib/python3.7/dist-packages (from spacy>=2.2.2->en_core_web_sm==2.2.5) (54.2.0)\n",
            "Requirement already satisfied: wasabi<1.1.0,>=0.4.0 in /usr/local/lib/python3.7/dist-packages (from spacy>=2.2.2->en_core_web_sm==2.2.5) (0.8.2)\n",
            "Requirement already satisfied: plac<1.2.0,>=0.9.6 in /usr/local/lib/python3.7/dist-packages (from spacy>=2.2.2->en_core_web_sm==2.2.5) (1.1.3)\n",
            "Requirement already satisfied: tqdm<5.0.0,>=4.38.0 in /usr/local/lib/python3.7/dist-packages (from spacy>=2.2.2->en_core_web_sm==2.2.5) (4.41.1)\n",
            "Requirement already satisfied: requests<3.0.0,>=2.13.0 in /usr/local/lib/python3.7/dist-packages (from spacy>=2.2.2->en_core_web_sm==2.2.5) (2.23.0)\n",
            "Requirement already satisfied: numpy>=1.15.0 in /usr/local/lib/python3.7/dist-packages (from spacy>=2.2.2->en_core_web_sm==2.2.5) (1.19.5)\n",
            "Requirement already satisfied: catalogue<1.1.0,>=0.0.7 in /usr/local/lib/python3.7/dist-packages (from spacy>=2.2.2->en_core_web_sm==2.2.5) (1.0.0)\n",
            "Requirement already satisfied: thinc==7.4.0 in /usr/local/lib/python3.7/dist-packages (from spacy>=2.2.2->en_core_web_sm==2.2.5) (7.4.0)\n",
            "Requirement already satisfied: blis<0.5.0,>=0.4.0 in /usr/local/lib/python3.7/dist-packages (from spacy>=2.2.2->en_core_web_sm==2.2.5) (0.4.1)\n",
            "Requirement already satisfied: preshed<3.1.0,>=3.0.2 in /usr/local/lib/python3.7/dist-packages (from spacy>=2.2.2->en_core_web_sm==2.2.5) (3.0.5)\n",
            "Requirement already satisfied: cymem<2.1.0,>=2.0.2 in /usr/local/lib/python3.7/dist-packages (from spacy>=2.2.2->en_core_web_sm==2.2.5) (2.0.5)\n",
            "Requirement already satisfied: srsly<1.1.0,>=1.0.2 in /usr/local/lib/python3.7/dist-packages (from spacy>=2.2.2->en_core_web_sm==2.2.5) (1.0.5)\n",
            "Requirement already satisfied: certifi>=2017.4.17 in /usr/local/lib/python3.7/dist-packages (from requests<3.0.0,>=2.13.0->spacy>=2.2.2->en_core_web_sm==2.2.5) (2020.12.5)\n",
            "Requirement already satisfied: idna<3,>=2.5 in /usr/local/lib/python3.7/dist-packages (from requests<3.0.0,>=2.13.0->spacy>=2.2.2->en_core_web_sm==2.2.5) (2.10)\n",
            "Requirement already satisfied: chardet<4,>=3.0.2 in /usr/local/lib/python3.7/dist-packages (from requests<3.0.0,>=2.13.0->spacy>=2.2.2->en_core_web_sm==2.2.5) (3.0.4)\n",
            "Requirement already satisfied: urllib3!=1.25.0,!=1.25.1,<1.26,>=1.21.1 in /usr/local/lib/python3.7/dist-packages (from requests<3.0.0,>=2.13.0->spacy>=2.2.2->en_core_web_sm==2.2.5) (1.24.3)\n",
            "Requirement already satisfied: importlib-metadata>=0.20; python_version < \"3.8\" in /usr/local/lib/python3.7/dist-packages (from catalogue<1.1.0,>=0.0.7->spacy>=2.2.2->en_core_web_sm==2.2.5) (3.8.1)\n",
            "Requirement already satisfied: typing-extensions>=3.6.4; python_version < \"3.8\" in /usr/local/lib/python3.7/dist-packages (from importlib-metadata>=0.20; python_version < \"3.8\"->catalogue<1.1.0,>=0.0.7->spacy>=2.2.2->en_core_web_sm==2.2.5) (3.7.4.3)\n",
            "Requirement already satisfied: zipp>=0.5 in /usr/local/lib/python3.7/dist-packages (from importlib-metadata>=0.20; python_version < \"3.8\"->catalogue<1.1.0,>=0.0.7->spacy>=2.2.2->en_core_web_sm==2.2.5) (3.4.1)\n",
            "\u001b[38;5;2m✔ Download and installation successful\u001b[0m\n",
            "You can now load the model via spacy.load('en_core_web_sm')\n",
            "\u001b[38;5;2m✔ Linking successful\u001b[0m\n",
            "/usr/local/lib/python3.7/dist-packages/en_core_web_sm -->\n",
            "/usr/local/lib/python3.7/dist-packages/spacy/data/en\n",
            "You can now load the model via spacy.load('en')\n",
            "Collecting de_core_news_sm==2.2.5\n",
            "\u001b[?25l  Downloading https://github.com/explosion/spacy-models/releases/download/de_core_news_sm-2.2.5/de_core_news_sm-2.2.5.tar.gz (14.9MB)\n",
            "\u001b[K     |████████████████████████████████| 14.9MB 6.8MB/s \n",
            "\u001b[?25hRequirement already satisfied: spacy>=2.2.2 in /usr/local/lib/python3.7/dist-packages (from de_core_news_sm==2.2.5) (2.2.4)\n",
            "Requirement already satisfied: blis<0.5.0,>=0.4.0 in /usr/local/lib/python3.7/dist-packages (from spacy>=2.2.2->de_core_news_sm==2.2.5) (0.4.1)\n",
            "Requirement already satisfied: murmurhash<1.1.0,>=0.28.0 in /usr/local/lib/python3.7/dist-packages (from spacy>=2.2.2->de_core_news_sm==2.2.5) (1.0.5)\n",
            "Requirement already satisfied: plac<1.2.0,>=0.9.6 in /usr/local/lib/python3.7/dist-packages (from spacy>=2.2.2->de_core_news_sm==2.2.5) (1.1.3)\n",
            "Requirement already satisfied: srsly<1.1.0,>=1.0.2 in /usr/local/lib/python3.7/dist-packages (from spacy>=2.2.2->de_core_news_sm==2.2.5) (1.0.5)\n",
            "Requirement already satisfied: catalogue<1.1.0,>=0.0.7 in /usr/local/lib/python3.7/dist-packages (from spacy>=2.2.2->de_core_news_sm==2.2.5) (1.0.0)\n",
            "Requirement already satisfied: setuptools in /usr/local/lib/python3.7/dist-packages (from spacy>=2.2.2->de_core_news_sm==2.2.5) (54.2.0)\n",
            "Requirement already satisfied: numpy>=1.15.0 in /usr/local/lib/python3.7/dist-packages (from spacy>=2.2.2->de_core_news_sm==2.2.5) (1.19.5)\n",
            "Requirement already satisfied: cymem<2.1.0,>=2.0.2 in /usr/local/lib/python3.7/dist-packages (from spacy>=2.2.2->de_core_news_sm==2.2.5) (2.0.5)\n",
            "Requirement already satisfied: wasabi<1.1.0,>=0.4.0 in /usr/local/lib/python3.7/dist-packages (from spacy>=2.2.2->de_core_news_sm==2.2.5) (0.8.2)\n",
            "Requirement already satisfied: requests<3.0.0,>=2.13.0 in /usr/local/lib/python3.7/dist-packages (from spacy>=2.2.2->de_core_news_sm==2.2.5) (2.23.0)\n",
            "Requirement already satisfied: preshed<3.1.0,>=3.0.2 in /usr/local/lib/python3.7/dist-packages (from spacy>=2.2.2->de_core_news_sm==2.2.5) (3.0.5)\n",
            "Requirement already satisfied: thinc==7.4.0 in /usr/local/lib/python3.7/dist-packages (from spacy>=2.2.2->de_core_news_sm==2.2.5) (7.4.0)\n",
            "Requirement already satisfied: tqdm<5.0.0,>=4.38.0 in /usr/local/lib/python3.7/dist-packages (from spacy>=2.2.2->de_core_news_sm==2.2.5) (4.41.1)\n",
            "Requirement already satisfied: importlib-metadata>=0.20; python_version < \"3.8\" in /usr/local/lib/python3.7/dist-packages (from catalogue<1.1.0,>=0.0.7->spacy>=2.2.2->de_core_news_sm==2.2.5) (3.8.1)\n",
            "Requirement already satisfied: urllib3!=1.25.0,!=1.25.1,<1.26,>=1.21.1 in /usr/local/lib/python3.7/dist-packages (from requests<3.0.0,>=2.13.0->spacy>=2.2.2->de_core_news_sm==2.2.5) (1.24.3)\n",
            "Requirement already satisfied: idna<3,>=2.5 in /usr/local/lib/python3.7/dist-packages (from requests<3.0.0,>=2.13.0->spacy>=2.2.2->de_core_news_sm==2.2.5) (2.10)\n",
            "Requirement already satisfied: certifi>=2017.4.17 in /usr/local/lib/python3.7/dist-packages (from requests<3.0.0,>=2.13.0->spacy>=2.2.2->de_core_news_sm==2.2.5) (2020.12.5)\n",
            "Requirement already satisfied: chardet<4,>=3.0.2 in /usr/local/lib/python3.7/dist-packages (from requests<3.0.0,>=2.13.0->spacy>=2.2.2->de_core_news_sm==2.2.5) (3.0.4)\n",
            "Requirement already satisfied: typing-extensions>=3.6.4; python_version < \"3.8\" in /usr/local/lib/python3.7/dist-packages (from importlib-metadata>=0.20; python_version < \"3.8\"->catalogue<1.1.0,>=0.0.7->spacy>=2.2.2->de_core_news_sm==2.2.5) (3.7.4.3)\n",
            "Requirement already satisfied: zipp>=0.5 in /usr/local/lib/python3.7/dist-packages (from importlib-metadata>=0.20; python_version < \"3.8\"->catalogue<1.1.0,>=0.0.7->spacy>=2.2.2->de_core_news_sm==2.2.5) (3.4.1)\n",
            "Building wheels for collected packages: de-core-news-sm\n",
            "  Building wheel for de-core-news-sm (setup.py) ... \u001b[?25l\u001b[?25hdone\n",
            "  Created wheel for de-core-news-sm: filename=de_core_news_sm-2.2.5-cp37-none-any.whl size=14907057 sha256=705f55f28a1221869f2c6f1d6cc195532c926b7350bc9c82a143a7231568a2d8\n",
            "  Stored in directory: /tmp/pip-ephem-wheel-cache-l_bg8vcv/wheels/ba/3f/ed/d4aa8e45e7191b7f32db4bfad565e7da1edbf05c916ca7a1ca\n",
            "Successfully built de-core-news-sm\n",
            "Installing collected packages: de-core-news-sm\n",
            "Successfully installed de-core-news-sm-2.2.5\n",
            "\u001b[38;5;2m✔ Download and installation successful\u001b[0m\n",
            "You can now load the model via spacy.load('de_core_news_sm')\n",
            "\u001b[38;5;2m✔ Linking successful\u001b[0m\n",
            "/usr/local/lib/python3.7/dist-packages/de_core_news_sm -->\n",
            "/usr/local/lib/python3.7/dist-packages/spacy/data/de\n",
            "You can now load the model via spacy.load('de')\n"
          ],
          "name": "stdout"
        }
      ]
    },
    {
      "cell_type": "code",
      "metadata": {
        "id": "PAS4ZO6C9q2l"
      },
      "source": [
        "spacy_ger = spacy.load('de')\n",
        "spacy_eng = spacy.load('en')"
      ],
      "execution_count": null,
      "outputs": []
    },
    {
      "cell_type": "code",
      "metadata": {
        "id": "x9RxVP8A-T5J"
      },
      "source": [
        "def tokenize_ger(text):\n",
        "    return [tok.text for tok in spacy_ger.tokenizer(text)]"
      ],
      "execution_count": null,
      "outputs": []
    },
    {
      "cell_type": "code",
      "metadata": {
        "id": "pHeyBxl9-yQz"
      },
      "source": [
        "def tokenize_eng(text):\n",
        "    return [tok.text for tok in spacy_eng.tokenizer(text)]"
      ],
      "execution_count": null,
      "outputs": []
    },
    {
      "cell_type": "code",
      "metadata": {
        "colab": {
          "base_uri": "https://localhost:8080/"
        },
        "id": "pBaJflIF-1Yj",
        "outputId": "9b1fc5fc-66b1-4179-ba86-19703244e1a6"
      },
      "source": [
        "\"\"\"\n",
        "torchtext field defines how data should be processed in the text\n",
        "\"\"\"\n",
        "german = Field(tokenize=tokenize_ger, lower=True, init_token=\"<SOS>\", eos_token=\"<eos>\")\n",
        "english = Field(tokenize=tokenize_eng, lower=True, init_token=\"<SOS>\", eos_token=\"<eos>\")"
      ],
      "execution_count": null,
      "outputs": [
        {
          "output_type": "stream",
          "text": [
            "/usr/local/lib/python3.7/dist-packages/torchtext/data/field.py:150: UserWarning: Field class will be retired soon and moved to torchtext.legacy. Please see the most recent release notes for further information.\n",
            "  warnings.warn('{} class will be retired soon and moved to torchtext.legacy. Please see the most recent release notes for further information.'.format(self.__class__.__name__), UserWarning)\n"
          ],
          "name": "stderr"
        }
      ]
    },
    {
      "cell_type": "markdown",
      "metadata": {
        "id": "l_CbqAvs_i4r"
      },
      "source": [
        "### Training data and Validation data"
      ]
    },
    {
      "cell_type": "code",
      "metadata": {
        "colab": {
          "base_uri": "https://localhost:8080/"
        },
        "id": "Ci6vcD-x_KIU",
        "outputId": "c15ba397-8ca3-4be7-8c44-f6c6077e0264"
      },
      "source": [
        "train_data, validation_data, test_data = Multi30k.splits(\n",
        "    exts = (\".de\",\".en\"), fields = (german,english)\n",
        ") "
      ],
      "execution_count": null,
      "outputs": [
        {
          "output_type": "stream",
          "text": [
            "downloading training.tar.gz\n"
          ],
          "name": "stdout"
        },
        {
          "output_type": "stream",
          "text": [
            "training.tar.gz: 100%|██████████| 1.21M/1.21M [00:02<00:00, 594kB/s]\n"
          ],
          "name": "stderr"
        },
        {
          "output_type": "stream",
          "text": [
            "downloading validation.tar.gz\n"
          ],
          "name": "stdout"
        },
        {
          "output_type": "stream",
          "text": [
            "validation.tar.gz: 100%|██████████| 46.3k/46.3k [00:00<00:00, 164kB/s]\n"
          ],
          "name": "stderr"
        },
        {
          "output_type": "stream",
          "text": [
            "downloading mmt_task1_test2016.tar.gz\n"
          ],
          "name": "stdout"
        },
        {
          "output_type": "stream",
          "text": [
            "mmt_task1_test2016.tar.gz: 100%|██████████| 66.2k/66.2k [00:00<00:00, 165kB/s]\n",
            "/usr/local/lib/python3.7/dist-packages/torchtext/data/example.py:78: UserWarning: Example class will be retired soon and moved to torchtext.legacy. Please see the most recent release notes for further information.\n",
            "  warnings.warn('Example class will be retired soon and moved to torchtext.legacy. Please see the most recent release notes for further information.', UserWarning)\n"
          ],
          "name": "stderr"
        }
      ]
    },
    {
      "cell_type": "code",
      "metadata": {
        "id": "0_8LhOWD_07t"
      },
      "source": [
        "german.build_vocab(train_data,max_size = 20000, min_freq = 2)\n",
        "english.build_vocab(train_data,max_size = 20000, min_freq = 2)"
      ],
      "execution_count": null,
      "outputs": []
    },
    {
      "cell_type": "code",
      "metadata": {
        "id": "XnOzYJ8Z_8Cx"
      },
      "source": [
        "class Transformer(nn.Module):\n",
        "    def __init__(\n",
        "        self,\n",
        "        embedding_size,\n",
        "        src_vocab_size,\n",
        "        trg_vocab_size,\n",
        "        src_pad_idx,\n",
        "        num_heads,\n",
        "        num_encoder_layers,\n",
        "        num_decoder_layers,\n",
        "        forward_expansion,\n",
        "        dropout,\n",
        "        max_len,\n",
        "        device,\n",
        "    ):\n",
        "        super(Transformer, self).__init__()\n",
        "        self.src_word_embedding = nn.Embedding(src_vocab_size, embedding_size)\n",
        "        self.src_position_embedding = nn.Embedding(max_len, embedding_size)\n",
        "        self.trg_word_embedding = nn.Embedding(trg_vocab_size, embedding_size)\n",
        "        self.trg_position_embedding = nn.Embedding(max_len, embedding_size)\n",
        "\n",
        "        self.device = device\n",
        "        self.transformer = nn.Transformer(\n",
        "            embedding_size,\n",
        "            num_heads,\n",
        "            num_encoder_layers,\n",
        "            num_decoder_layers,\n",
        "            forward_expansion,\n",
        "            dropout,\n",
        "        )\n",
        "        self.fc_out = nn.Linear(embedding_size, trg_vocab_size)\n",
        "        self.dropout = nn.Dropout(dropout)\n",
        "        self.src_pad_idx = src_pad_idx\n",
        "\n",
        "    def make_src_mask(self, src):\n",
        "        src_mask = src.transpose(0, 1) == self.src_pad_idx\n",
        "\n",
        "        # (N, src_len)\n",
        "        return src_mask.to(self.device)\n",
        "\n",
        "    def forward(self, src, trg):\n",
        "        src_seq_length, N = src.shape\n",
        "        trg_seq_length, N = trg.shape\n",
        "\n",
        "        src_positions = (\n",
        "            torch.arange(0, src_seq_length)\n",
        "            .unsqueeze(1)\n",
        "            .expand(src_seq_length, N)\n",
        "            .to(self.device)\n",
        "        )\n",
        "\n",
        "        trg_positions = (\n",
        "            torch.arange(0, trg_seq_length)\n",
        "            .unsqueeze(1)\n",
        "            .expand(trg_seq_length, N)\n",
        "            .to(self.device)\n",
        "        )\n",
        "\n",
        "        embed_src = self.dropout(\n",
        "            (self.src_word_embedding(src) + self.src_position_embedding(src_positions))\n",
        "        )\n",
        "        embed_trg = self.dropout(\n",
        "            (self.trg_word_embedding(trg) + self.trg_position_embedding(trg_positions))\n",
        "        )\n",
        "\n",
        "        src_padding_mask = self.make_src_mask(src)\n",
        "        trg_mask = self.transformer.generate_square_subsequent_mask(trg_seq_length).to(\n",
        "            self.device\n",
        "        )\n",
        "\n",
        "        out = self.transformer(\n",
        "            embed_src,\n",
        "            embed_trg,\n",
        "            src_key_padding_mask=src_padding_mask,\n",
        "            tgt_mask=trg_mask,\n",
        "        )\n",
        "        out = self.fc_out(out)\n",
        "        return out\n"
      ],
      "execution_count": null,
      "outputs": []
    },
    {
      "cell_type": "code",
      "metadata": {
        "colab": {
          "base_uri": "https://localhost:8080/"
        },
        "id": "Ef_357u9AYBa",
        "outputId": "9e1596a7-b312-4520-b091-3cf81f815b3a"
      },
      "source": [
        "#setup the training phase\n",
        "\n",
        "device = torch.device(\"cuda\" if torch.cuda.is_available() else \"cpu\")\n",
        "print(device)\n",
        "\n",
        "load_model = False\n",
        "save_model = True\n",
        "\n",
        "num_epochs = 50\n",
        "learning_rate = 3e-4\n",
        "batch_size = 32\n",
        "\n",
        "src_vocab_size = len(german.vocab)\n",
        "trg_vocab_size = len(english.vocab)\n",
        "\n",
        "embedding_size = 512\n",
        "num_heads = 8\n",
        "num_encoder_layers = 6\n",
        "num_decoder_layers = 6\n",
        "dropout = 0.10\n",
        "max_len = 100 #maximum sentence length used for positional embedding\n",
        "forward_expansion = 4\n",
        "src_pad_idx = english.vocab.stoi[\"<pad>\"]"
      ],
      "execution_count": null,
      "outputs": [
        {
          "output_type": "stream",
          "text": [
            "cuda\n"
          ],
          "name": "stdout"
        }
      ]
    },
    {
      "cell_type": "code",
      "metadata": {
        "colab": {
          "base_uri": "https://localhost:8080/"
        },
        "id": "uT3ekzpjAlUC",
        "outputId": "61673888-43dc-43d0-f2e4-f6d27e90148c"
      },
      "source": [
        "train_iterator, valid_iterator, test_iterator = BucketIterator.splits(\n",
        "    (train_data,validation_data, test_data), batch_size = batch_size, sort_within_batch = True, sort_key = lambda x:len(x.src)\n",
        ")"
      ],
      "execution_count": null,
      "outputs": [
        {
          "output_type": "stream",
          "text": [
            "/usr/local/lib/python3.7/dist-packages/torchtext/data/iterator.py:48: UserWarning: BucketIterator class will be retired soon and moved to torchtext.legacy. Please see the most recent release notes for further information.\n",
            "  warnings.warn('{} class will be retired soon and moved to torchtext.legacy. Please see the most recent release notes for further information.'.format(self.__class__.__name__), UserWarning)\n"
          ],
          "name": "stderr"
        }
      ]
    },
    {
      "cell_type": "code",
      "metadata": {
        "id": "Rvo8QiFgCIVB"
      },
      "source": [
        "model = Transformer(\n",
        "    embedding_size,\n",
        "    src_vocab_size,\n",
        "    trg_vocab_size,\n",
        "    src_pad_idx,\n",
        "    num_heads,\n",
        "    num_encoder_layers,\n",
        "    num_decoder_layers,\n",
        "    forward_expansion,\n",
        "    dropout,\n",
        "    max_len,\n",
        "    device\n",
        ").to(device)"
      ],
      "execution_count": null,
      "outputs": []
    },
    {
      "cell_type": "code",
      "metadata": {
        "id": "YY2ntu0MCYa6"
      },
      "source": [
        "optimizer = optim.Adam(model.parameters(), lr=learning_rate)\n",
        "\n",
        "pad_idx = english.vocab.stoi[\"<pad>\"]\n",
        "criterion = nn.CrossEntropyLoss(ignore_index=pad_idx)"
      ],
      "execution_count": null,
      "outputs": []
    },
    {
      "cell_type": "code",
      "metadata": {
        "id": "aZWWou3WC-vS"
      },
      "source": [
        "if load_model:\n",
        "    load_checkpoint(torch.load(\"my_checkpoint.pth.tar\"),model, optimizer)"
      ],
      "execution_count": null,
      "outputs": []
    },
    {
      "cell_type": "code",
      "metadata": {
        "id": "6_zOlGJ2DH7H"
      },
      "source": [
        "sentence = \"ich liebe dich so sehr\""
      ],
      "execution_count": null,
      "outputs": []
    },
    {
      "cell_type": "code",
      "metadata": {
        "colab": {
          "base_uri": "https://localhost:8080/"
        },
        "id": "ZKihVg_zDNyI",
        "outputId": "0c27fe89-e438-444d-d48a-330d592b29e1"
      },
      "source": [
        "for epoch in range(num_epochs):\n",
        "    print(f\"[Epoch {epoch}/{num_epochs}]\")\n",
        "\n",
        "    if save_model:\n",
        "        checkpoint = {\n",
        "            \"state_dict\" : model.state_dict(),\n",
        "            \"optimizer\"  : optimizer.state_dict()\n",
        "        }\n",
        "        save_checkpoint(checkpoint)\n",
        "\n",
        "    model.eval()\n",
        "    translated_sentence = translate_sentence(\n",
        "        model, sentence, german, english, device, 4\n",
        "    )\n",
        "\n",
        "    print(f\"Translated example sentence\\n {translated_sentence}\")\n",
        "\n",
        "    model.train()\n",
        "\n",
        "    for batch_idx, batch in enumerate(train_iterator):\n",
        "        inp_data = batch.src.to(device)\n",
        "        target = batch.trg.to(device)\n",
        "\n",
        "        #forward prop\n",
        "\n",
        "        output = model(inp_data, target[:-1])\n",
        "        \"\"\"\n",
        "        comment\n",
        "        \"\"\"\n",
        "\n",
        "        output = output.reshape(-1, output.shape[2])\n",
        "\n",
        "        target = target[1:].reshape(-1)\n",
        "        optimizer.zero_grad()\n",
        "\n",
        "        loss = criterion(output,target)\n",
        "        loss.backward()\n",
        "\n",
        "        torch.nn.utils.clip_grad_norm_(model.parameters(),max_norm=1)\n",
        "        optimizer.step()"
      ],
      "execution_count": null,
      "outputs": [
        {
          "output_type": "stream",
          "text": [
            "[Epoch 0/50]\n",
            "=> Saving checkpoint\n",
            "Translated example sentence\n",
            " ['counter', 'counter', 'counter', 'counter']\n"
          ],
          "name": "stdout"
        },
        {
          "output_type": "stream",
          "text": [
            "/usr/local/lib/python3.7/dist-packages/torchtext/data/batch.py:23: UserWarning: Batch class will be retired soon and moved to torchtext.legacy. Please see the most recent release notes for further information.\n",
            "  warnings.warn('{} class will be retired soon and moved to torchtext.legacy. Please see the most recent release notes for further information.'.format(self.__class__.__name__), UserWarning)\n"
          ],
          "name": "stderr"
        },
        {
          "output_type": "stream",
          "text": [
            "[Epoch 1/50]\n",
            "=> Saving checkpoint\n",
            "Translated example sentence\n",
            " ['a', 'football', 'player', 'player']\n",
            "[Epoch 2/50]\n",
            "=> Saving checkpoint\n",
            "Translated example sentence\n",
            " ['a', 'group', 'of', '<unk>']\n",
            "[Epoch 3/50]\n",
            "=> Saving checkpoint\n",
            "Translated example sentence\n",
            " ['this', 'very', 'very', 'very']\n",
            "[Epoch 4/50]\n",
            "=> Saving checkpoint\n",
            "Translated example sentence\n",
            " ['a', 'very', 'very', 'very']\n",
            "[Epoch 5/50]\n",
            "=> Saving checkpoint\n",
            "Translated example sentence\n",
            " ['the', 'very', 'very', 'very']\n",
            "[Epoch 6/50]\n",
            "=> Saving checkpoint\n",
            "Translated example sentence\n",
            " ['very', 'very', 'very', 'very']\n",
            "[Epoch 7/50]\n",
            "=> Saving checkpoint\n",
            "Translated example sentence\n",
            " ['protesters', 'of', 'very', 'very']\n",
            "[Epoch 8/50]\n",
            "=> Saving checkpoint\n",
            "Translated example sentence\n",
            " ['protesters', 'of', 'very', 'cause']\n",
            "[Epoch 9/50]\n",
            "=> Saving checkpoint\n",
            "Translated example sentence\n",
            " ['very', 'very', 'very', 'very']\n",
            "[Epoch 10/50]\n",
            "=> Saving checkpoint\n",
            "Translated example sentence\n",
            " ['very', 'very', 'very', 'very']\n",
            "[Epoch 11/50]\n",
            "=> Saving checkpoint\n",
            "Translated example sentence\n",
            " ['this', 'is', 'you', 'very']\n",
            "[Epoch 12/50]\n",
            "=> Saving checkpoint\n",
            "Translated example sentence\n",
            " ['this', 'is', 'very', 'very']\n",
            "[Epoch 13/50]\n",
            "=> Saving checkpoint\n",
            "Translated example sentence\n",
            " ['very', 'very', 'very', 'very']\n",
            "[Epoch 14/50]\n",
            "=> Saving checkpoint\n",
            "Translated example sentence\n",
            " ['very', 'very', 'very', 'very']\n",
            "[Epoch 15/50]\n",
            "=> Saving checkpoint\n",
            "Translated example sentence\n",
            " ['this', 'is', 'very', 'very']\n",
            "[Epoch 16/50]\n",
            "=> Saving checkpoint\n",
            "Translated example sentence\n",
            " ['very', 'very', 'very', 'very']\n",
            "[Epoch 17/50]\n",
            "=> Saving checkpoint\n",
            "Translated example sentence\n",
            " ['very', 'very', 'very', 'very']\n",
            "[Epoch 18/50]\n",
            "=> Saving checkpoint\n",
            "Translated example sentence\n",
            " ['you', 'very', 'very', 'very']\n",
            "[Epoch 19/50]\n",
            "=> Saving checkpoint\n",
            "Translated example sentence\n",
            " ['this', 'is', 'very', 'very']\n",
            "[Epoch 20/50]\n",
            "=> Saving checkpoint\n",
            "Translated example sentence\n",
            " ['very', 'very', 'very', 'very']\n",
            "[Epoch 21/50]\n",
            "=> Saving checkpoint\n",
            "Translated example sentence\n",
            " ['this', 'is', 'very', 'very']\n",
            "[Epoch 22/50]\n",
            "=> Saving checkpoint\n",
            "Translated example sentence\n",
            " ['you', 'forces', 'flipping', 'very']\n",
            "[Epoch 23/50]\n",
            "=> Saving checkpoint\n",
            "Translated example sentence\n",
            " ['this', 'is', 'very', 'very']\n",
            "[Epoch 24/50]\n",
            "=> Saving checkpoint\n",
            "Translated example sentence\n",
            " ['this', 'shows', 'people', \"'s\"]\n",
            "[Epoch 25/50]\n",
            "=> Saving checkpoint\n",
            "Translated example sentence\n",
            " ['this', 'is', 'you', 'is']\n",
            "[Epoch 26/50]\n",
            "=> Saving checkpoint\n",
            "Translated example sentence\n",
            " ['this', 'you', 'is', 'you']\n",
            "[Epoch 27/50]\n",
            "=> Saving checkpoint\n",
            "Translated example sentence\n",
            " ['this', 'could', 'very', 'very']\n",
            "[Epoch 28/50]\n",
            "=> Saving checkpoint\n",
            "Translated example sentence\n",
            " ['this', 'you', 'is', 'very']\n",
            "[Epoch 29/50]\n",
            "=> Saving checkpoint\n",
            "Translated example sentence\n",
            " ['this', 'beautiful', 'guy', 'very']\n",
            "[Epoch 30/50]\n",
            "=> Saving checkpoint\n",
            "Translated example sentence\n",
            " ['<eos>']\n",
            "[Epoch 31/50]\n",
            "=> Saving checkpoint\n",
            "Translated example sentence\n",
            " ['this', 'is', 'very', 'very']\n",
            "[Epoch 32/50]\n",
            "=> Saving checkpoint\n",
            "Translated example sentence\n",
            " ['we', 'can', 'really', 'very']\n",
            "[Epoch 33/50]\n",
            "=> Saving checkpoint\n",
            "Translated example sentence\n",
            " ['<eos>']\n",
            "[Epoch 34/50]\n",
            "=> Saving checkpoint\n",
            "Translated example sentence\n",
            " ['this', 'very', 'very', 'very']\n",
            "[Epoch 35/50]\n",
            "=> Saving checkpoint\n",
            "Translated example sentence\n",
            " ['<eos>']\n",
            "[Epoch 36/50]\n",
            "=> Saving checkpoint\n",
            "Translated example sentence\n",
            " ['he', \"'s\", 'baltimore', 'diver']\n",
            "[Epoch 37/50]\n",
            "=> Saving checkpoint\n",
            "Translated example sentence\n",
            " ['this', 'is', 'very', 'happy']\n",
            "[Epoch 38/50]\n",
            "=> Saving checkpoint\n",
            "Translated example sentence\n",
            " ['this', 'is', 'very', 'very']\n",
            "[Epoch 39/50]\n",
            "=> Saving checkpoint\n",
            "Translated example sentence\n",
            " ['this', 'very', 'very', 'very']\n",
            "[Epoch 40/50]\n",
            "=> Saving checkpoint\n",
            "Translated example sentence\n",
            " ['<eos>']\n",
            "[Epoch 41/50]\n",
            "=> Saving checkpoint\n",
            "Translated example sentence\n",
            " ['<eos>']\n",
            "[Epoch 42/50]\n",
            "=> Saving checkpoint\n",
            "Translated example sentence\n",
            " ['this', 'is', 'very', 'this']\n",
            "[Epoch 43/50]\n",
            "=> Saving checkpoint\n",
            "Translated example sentence\n",
            " ['this', 'very', 'very', 'so']\n",
            "[Epoch 44/50]\n",
            "=> Saving checkpoint\n",
            "Translated example sentence\n",
            " ['we', 'very', 'baltimore', 'very']\n",
            "[Epoch 45/50]\n",
            "=> Saving checkpoint\n",
            "Translated example sentence\n",
            " ['.', 'very', 'very', 'very']\n",
            "[Epoch 46/50]\n",
            "=> Saving checkpoint\n",
            "Translated example sentence\n",
            " ['<eos>']\n",
            "[Epoch 47/50]\n",
            "=> Saving checkpoint\n",
            "Translated example sentence\n",
            " ['.', 'very', 'very', 'very']\n",
            "[Epoch 48/50]\n",
            "=> Saving checkpoint\n",
            "Translated example sentence\n",
            " ['this', 'very', 'this', 'party']\n",
            "[Epoch 49/50]\n",
            "=> Saving checkpoint\n",
            "Translated example sentence\n",
            " ['very', 'very', 'very', 'very']\n"
          ],
          "name": "stdout"
        }
      ]
    },
    {
      "cell_type": "code",
      "metadata": {
        "colab": {
          "base_uri": "https://localhost:8080/"
        },
        "id": "vRwgXXVeF0b8",
        "outputId": "4eac9186-889f-4d07-b33a-8185cb0636ba"
      },
      "source": [
        "score = bleu(test_data, model, german, english, device)\n",
        "print(f\"Bleu Score {score*100:.2f}\")"
      ],
      "execution_count": null,
      "outputs": [
        {
          "output_type": "stream",
          "text": [
            "Bleu Score5.71\n"
          ],
          "name": "stdout"
        }
      ]
    },
    {
      "cell_type": "code",
      "metadata": {
        "colab": {
          "base_uri": "https://localhost:8080/"
        },
        "id": "Phd1pQZqPVZW",
        "outputId": "e3150de3-0fce-46fa-ad7f-326a53c1221e"
      },
      "source": [
        "translated_sentence = translate_sentence(\n",
        "        model, sentence, german, english, device, 3\n",
        ")\n",
        "\n",
        "print(f\"Translated example sentence\\n {translated_sentence}\")"
      ],
      "execution_count": null,
      "outputs": [
        {
          "output_type": "stream",
          "text": [
            "Translated example sentence\n",
            " ['i', '<unk>', '.']\n"
          ],
          "name": "stdout"
        }
      ]
    },
    {
      "cell_type": "code",
      "metadata": {
        "id": "eINsW3X_PVqR"
      },
      "source": [
        ""
      ],
      "execution_count": null,
      "outputs": []
    }
  ]
}